{
 "cells": [
  {
   "cell_type": "code",
   "execution_count": 6,
   "id": "4950531f-3be1-4149-9b7c-f17fab182fec",
   "metadata": {},
   "outputs": [
    {
     "name": "stdout",
     "output_type": "stream",
     "text": [
      "Requirement already satisfied: opencv-python in c:\\programdata\\anaconda3\\lib\\site-packages (4.10.0.82)\n",
      "Requirement already satisfied: numpy>=1.21.2 in c:\\programdata\\anaconda3\\lib\\site-packages (from opencv-python) (1.26.4)\n",
      "Note: you may need to restart the kernel to use updated packages.\n"
     ]
    }
   ],
   "source": [
    "pip install opencv-python"
   ]
  },
  {
   "cell_type": "code",
   "execution_count": 56,
   "id": "198b8e70-44dc-4f5e-80e2-9cd22d1ed1f5",
   "metadata": {},
   "outputs": [],
   "source": [
    "import numpy as np\n",
    "import cv2\n",
    "import requests"
   ]
  },
  {
   "cell_type": "code",
   "execution_count": 52,
   "id": "277aff17-1c6c-4754-9692-4e57e3de6ca0",
   "metadata": {},
   "outputs": [],
   "source": [
    "def read_image_from_url(url):\n",
    "  \"\"\"Reads an image from the specified URL and returns a NumPy array.\n",
    "\n",
    "  Args:\n",
    "      url: The URL of the image to download.\n",
    "\n",
    "  Returns:\n",
    "      A NumPy array representing the image, or None if an error occurs.\n",
    "  \"\"\"\n",
    "\n",
    "  try:\n",
    "    response = requests.get(url, stream=True)\n",
    "    response.raise_for_status()  # Raise an exception for non-200 status codes\n",
    "\n",
    "    # Handle potential content-type issues (e.g., not an image)\n",
    "    # if not response.headers['Content-Type'].startswith('image/'):\n",
    "    #   print(f\"Error: URL '{url}' does not appear to contain an image.\")\n",
    "    #   return None\n",
    "\n",
    "    # Load the image data from the response\n",
    "    img_array = np.asarray(bytearray(response.raw.read()), dtype=np.uint8)\n",
    "    img = cv2.imdecode(img_array, cv2.IMREAD_COLOR)  # Decode image for OpenCV\n",
    "\n",
    "    return img\n",
    "  except requests.exceptions.RequestException as e:\n",
    "    print(f\"Error downloading image from URL '{url}': {e}\")\n",
    "    return None\n"
   ]
  },
  {
   "cell_type": "code",
   "execution_count": 60,
   "id": "723f8c52-c45c-450b-8e97-05310a253a9a",
   "metadata": {},
   "outputs": [
    {
     "ename": "error",
     "evalue": "OpenCV(4.10.0) D:\\a\\opencv-python\\opencv-python\\opencv\\modules\\highgui\\src\\window.cpp:973: error: (-215:Assertion failed) size.width>0 && size.height>0 in function 'cv::imshow'\n",
     "output_type": "error",
     "traceback": [
      "\u001b[1;31m---------------------------------------------------------------------------\u001b[0m",
      "\u001b[1;31merror\u001b[0m                                     Traceback (most recent call last)",
      "Cell \u001b[1;32mIn[60], line 4\u001b[0m\n\u001b[0;32m      2\u001b[0m image_url \u001b[38;5;241m=\u001b[39m \u001b[38;5;124m\"\u001b[39m\u001b[38;5;124mhttps://drive.google.com/file/d/14q_yuRRRuvmun7-He5b41hIEmXFjehkr/view\u001b[39m\u001b[38;5;124m\"\u001b[39m  \u001b[38;5;66;03m# Replace with the actual image URL\u001b[39;00m\n\u001b[0;32m      3\u001b[0m img \u001b[38;5;241m=\u001b[39m read_image_from_url(image_url)\n\u001b[1;32m----> 4\u001b[0m cv2\u001b[38;5;241m.\u001b[39mimshow(\u001b[38;5;124m'\u001b[39m\u001b[38;5;124mlalala\u001b[39m\u001b[38;5;124m'\u001b[39m, img)\n\u001b[0;32m      6\u001b[0m \u001b[38;5;28;01mif\u001b[39;00m img \u001b[38;5;129;01mis\u001b[39;00m \u001b[38;5;129;01mnot\u001b[39;00m \u001b[38;5;28;01mNone\u001b[39;00m:\n\u001b[0;32m      7\u001b[0m   gray \u001b[38;5;241m=\u001b[39m cv2\u001b[38;5;241m.\u001b[39mcvtColor(img, cv\u001b[38;5;241m.\u001b[39mCOLOR_BGR2GRAY)\n",
      "\u001b[1;31merror\u001b[0m: OpenCV(4.10.0) D:\\a\\opencv-python\\opencv-python\\opencv\\modules\\highgui\\src\\window.cpp:973: error: (-215:Assertion failed) size.width>0 && size.height>0 in function 'cv::imshow'\n"
     ]
    }
   ],
   "source": [
    "# Example usage\n",
    "image_url = \"https://drive.google.com/file/d/14q_yuRRRuvmun7-He5b41hIEmXFjehkr\"\n",
    "img = read_image_from_url(image_url)\n",
    "\n",
    "if img is not None:\n",
    "  gray = cv2.cvtColor(img, cv.COLOR_BGR2GRAY)\n",
    "  sift = cv2.SIFT_create()\n",
    "  kp = sift.detect(gray, None)\n",
    "  img = cv2.drawKeypoints(gray, kp, img)\n",
    "  cv.imwrite('sift_keypoints.jpg', img)\n",
    "else:\n",
    "  print(\"Failed to read image. Please check the URL and internet connection.\")"
   ]
  },
  {
   "cell_type": "code",
   "execution_count": null,
   "id": "1afbee48-d990-4775-a255-5bd195b1c245",
   "metadata": {},
   "outputs": [],
   "source": [
    "img=cv.drawKeypoints(gray,kp,img,flags=cv.DRAW_MATCHES_FLAGS_DRAW_RICH_KEYPOINTS)\n",
    "cv.imwrite('sift_keypoints.jpg',img)"
   ]
  }
 ],
 "metadata": {
  "kernelspec": {
   "display_name": "Python 3 (ipykernel)",
   "language": "python",
   "name": "python3"
  },
  "language_info": {
   "codemirror_mode": {
    "name": "ipython",
    "version": 3
   },
   "file_extension": ".py",
   "mimetype": "text/x-python",
   "name": "python",
   "nbconvert_exporter": "python",
   "pygments_lexer": "ipython3",
   "version": "3.11.7"
  }
 },
 "nbformat": 4,
 "nbformat_minor": 5
}
